{
 "cells": [
  {
   "cell_type": "code",
   "execution_count": 1,
   "metadata": {},
   "outputs": [],
   "source": [
    "import pandas as pd\n",
    "import numpy as np"
   ]
  },
  {
   "cell_type": "code",
   "execution_count": 2,
   "metadata": {},
   "outputs": [],
   "source": [
    "# Import the required module for text \n",
    "# to speech conversion \n",
    "from gtts import gTTS \n",
    "\n",
    "# This module is imported so that we can \n",
    "# play the converted audio \n",
    "import os "
   ]
  },
  {
   "cell_type": "code",
   "execution_count": 3,
   "metadata": {},
   "outputs": [
    {
     "data": {
      "text/html": [
       "<div>\n",
       "<style scoped>\n",
       "    .dataframe tbody tr th:only-of-type {\n",
       "        vertical-align: middle;\n",
       "    }\n",
       "\n",
       "    .dataframe tbody tr th {\n",
       "        vertical-align: top;\n",
       "    }\n",
       "\n",
       "    .dataframe thead th {\n",
       "        text-align: right;\n",
       "    }\n",
       "</style>\n",
       "<table border=\"1\" class=\"dataframe\">\n",
       "  <thead>\n",
       "    <tr style=\"text-align: right;\">\n",
       "      <th></th>\n",
       "      <th>name</th>\n",
       "      <th>order_id</th>\n",
       "      <th>amount</th>\n",
       "      <th>delivery_status</th>\n",
       "      <th>called</th>\n",
       "    </tr>\n",
       "  </thead>\n",
       "  <tbody>\n",
       "    <tr>\n",
       "      <th>0</th>\n",
       "      <td>Shlok Agarwal</td>\n",
       "      <td>5201</td>\n",
       "      <td>2000</td>\n",
       "      <td>failed</td>\n",
       "      <td>no</td>\n",
       "    </tr>\n",
       "  </tbody>\n",
       "</table>\n",
       "</div>"
      ],
      "text/plain": [
       "            name order_id amount delivery_status called\n",
       "0  Shlok Agarwal     5201   2000          failed     no"
      ]
     },
     "execution_count": 3,
     "metadata": {},
     "output_type": "execute_result"
    }
   ],
   "source": [
    "df=pd.DataFrame({'name':['Shlok Agarwal'],'order_id':['5201'],'amount':['2000'],'delivery_status':['failed'],'called':'no'})\n",
    "df"
   ]
  },
  {
   "cell_type": "code",
   "execution_count": 4,
   "metadata": {},
   "outputs": [
    {
     "name": "stdout",
     "output_type": "stream",
     "text": [
      "3\n"
     ]
    },
    {
     "data": {
      "text/html": [
       "<div>\n",
       "<style scoped>\n",
       "    .dataframe tbody tr th:only-of-type {\n",
       "        vertical-align: middle;\n",
       "    }\n",
       "\n",
       "    .dataframe tbody tr th {\n",
       "        vertical-align: top;\n",
       "    }\n",
       "\n",
       "    .dataframe thead th {\n",
       "        text-align: right;\n",
       "    }\n",
       "</style>\n",
       "<table border=\"1\" class=\"dataframe\">\n",
       "  <thead>\n",
       "    <tr style=\"text-align: right;\">\n",
       "      <th></th>\n",
       "      <th>name</th>\n",
       "      <th>order_id</th>\n",
       "      <th>amount</th>\n",
       "      <th>delivery_status</th>\n",
       "      <th>called</th>\n",
       "    </tr>\n",
       "  </thead>\n",
       "  <tbody>\n",
       "    <tr>\n",
       "      <th>0</th>\n",
       "      <td>Shlok Agarwal</td>\n",
       "      <td>5201</td>\n",
       "      <td>2000</td>\n",
       "      <td>failed</td>\n",
       "      <td>no</td>\n",
       "    </tr>\n",
       "    <tr>\n",
       "      <th>1</th>\n",
       "      <td>Vidisha</td>\n",
       "      <td>2301</td>\n",
       "      <td>300</td>\n",
       "      <td>failed</td>\n",
       "      <td>no</td>\n",
       "    </tr>\n",
       "    <tr>\n",
       "      <th>2</th>\n",
       "      <td>Anushree</td>\n",
       "      <td>5607</td>\n",
       "      <td>3760</td>\n",
       "      <td>accepted</td>\n",
       "      <td>no</td>\n",
       "    </tr>\n",
       "  </tbody>\n",
       "</table>\n",
       "</div>"
      ],
      "text/plain": [
       "            name order_id amount delivery_status called\n",
       "0  Shlok Agarwal     5201   2000          failed     no\n",
       "1        Vidisha     2301    300          failed     no\n",
       "2       Anushree     5607   3760        accepted     no"
      ]
     },
     "execution_count": 4,
     "metadata": {},
     "output_type": "execute_result"
    }
   ],
   "source": [
    "df.loc[1]=['Vidisha','2301','300','failed','no']\n",
    "df.loc[2]=['Anushree','5607','3760','accepted','no']\n",
    "a=df.values\n",
    "r,c=a.shape\n",
    "print(r)\n",
    "df"
   ]
  },
  {
   "cell_type": "code",
   "execution_count": 5,
   "metadata": {},
   "outputs": [
    {
     "name": "stdout",
     "output_type": "stream",
     "text": [
      "Press 1 if you want again and 0 if not:0\n",
      "Press 1 if you want again and 0 if not:0\n",
      "Press 1 if you have not taken delivery:1\n"
     ]
    }
   ],
   "source": [
    "# Language in which you want to convert \n",
    "language = 'en'\n",
    "\n",
    "for i in range(r):\n",
    "    if((a[i][3]=='failed')or(a[i][3]=='accepted')):\n",
    "        if((a[i][4]=='no')and (a[i][3]=='failed')):\n",
    "            # The text that you want to convert to audio \n",
    "            mytext = \"hello \"+a[i][0]+\" , we tried to deliver your order, numbered: \"+a[i][1]+\" , amount\"+a[i][2]+\",today but failed to do so\"+\"if you want your product to deliver again press 1 else 0\"\n",
    "            # Passing the text and language to the engine, \n",
    "            # here we have marked slow=False. Which tells \n",
    "            # the module that the converted audio should \n",
    "            myobj = gTTS(text=mytext, lang=language, slow=False) \n",
    "            # Saving the converted audio in a mp3 file named \n",
    "            # python\n",
    "            myobj.save(\"python\"+str(i)+\".mp3\")\n",
    "            # Playing the converted file \n",
    "            os.system(\"python\"+str(i)+\".mp3\")\n",
    "            x=int(input(\"Press 1 if you want again and 0 if not:\"))\n",
    "            if(x==1):\n",
    "                a[i][3]=\"retry\"\n",
    "                a[i][4]=\"yes\"\n",
    "            else:\n",
    "                a[i][3]=\"rejected\"\n",
    "                a[i][4]=\"yes\"\n",
    "        elif(a[i][4]=='no'):\n",
    "            # The text that you want to convert to audio \n",
    "            mytext = \"hello \"+a[i][0]+\" , we have delivered your order, numbered: \"+a[i][1]+\"amount\"+a[i][2]+\"today, if you have not accepted your order press 1\"\n",
    "            # Passing the text and language to the engine, \n",
    "            # here we have marked slow=False. Which tells \n",
    "            # the module that the converted audio should \n",
    "            myobj = gTTS(text=mytext, lang=language, slow=False)\n",
    "             # Saving the converted audio in a mp3 file named \n",
    "            # python\n",
    "            myobj.save(\"python\"+str(i)+\".mp3\")\n",
    "            # Playing the converted file \n",
    "            os.system(\"python\"+str(i)+\".mp3\")\n",
    "            x=int(input(\"Press 1 if you have not taken delivery:\"))\n",
    "            if(x==1):\n",
    "                a[i][3]=\"delivered but not accepted\"\n",
    "                a[i][4]=\"yes\"\n",
    "            else:\n",
    "                a[i][4]=\"yes\"\n",
    "\n",
    "\n",
    "\n"
   ]
  },
  {
   "cell_type": "code",
   "execution_count": 6,
   "metadata": {},
   "outputs": [
    {
     "data": {
      "text/html": [
       "<div>\n",
       "<style scoped>\n",
       "    .dataframe tbody tr th:only-of-type {\n",
       "        vertical-align: middle;\n",
       "    }\n",
       "\n",
       "    .dataframe tbody tr th {\n",
       "        vertical-align: top;\n",
       "    }\n",
       "\n",
       "    .dataframe thead th {\n",
       "        text-align: right;\n",
       "    }\n",
       "</style>\n",
       "<table border=\"1\" class=\"dataframe\">\n",
       "  <thead>\n",
       "    <tr style=\"text-align: right;\">\n",
       "      <th></th>\n",
       "      <th>name</th>\n",
       "      <th>order_id</th>\n",
       "      <th>amount</th>\n",
       "      <th>delivery_status</th>\n",
       "      <th>called</th>\n",
       "    </tr>\n",
       "  </thead>\n",
       "  <tbody>\n",
       "    <tr>\n",
       "      <th>0</th>\n",
       "      <td>Shlok Agarwal</td>\n",
       "      <td>5201</td>\n",
       "      <td>2000</td>\n",
       "      <td>rejected</td>\n",
       "      <td>yes</td>\n",
       "    </tr>\n",
       "    <tr>\n",
       "      <th>1</th>\n",
       "      <td>Vidisha</td>\n",
       "      <td>2301</td>\n",
       "      <td>300</td>\n",
       "      <td>rejected</td>\n",
       "      <td>yes</td>\n",
       "    </tr>\n",
       "    <tr>\n",
       "      <th>2</th>\n",
       "      <td>Anushree</td>\n",
       "      <td>5607</td>\n",
       "      <td>3760</td>\n",
       "      <td>delivered but not accepted</td>\n",
       "      <td>yes</td>\n",
       "    </tr>\n",
       "  </tbody>\n",
       "</table>\n",
       "</div>"
      ],
      "text/plain": [
       "            name order_id amount             delivery_status called\n",
       "0  Shlok Agarwal     5201   2000                    rejected    yes\n",
       "1        Vidisha     2301    300                    rejected    yes\n",
       "2       Anushree     5607   3760  delivered but not accepted    yes"
      ]
     },
     "execution_count": 6,
     "metadata": {},
     "output_type": "execute_result"
    }
   ],
   "source": [
    "df"
   ]
  },
  {
   "cell_type": "code",
   "execution_count": null,
   "metadata": {},
   "outputs": [],
   "source": []
  }
 ],
 "metadata": {
  "kernelspec": {
   "display_name": "Python 3",
   "language": "python",
   "name": "python3"
  },
  "language_info": {
   "codemirror_mode": {
    "name": "ipython",
    "version": 3
   },
   "file_extension": ".py",
   "mimetype": "text/x-python",
   "name": "python",
   "nbconvert_exporter": "python",
   "pygments_lexer": "ipython3",
   "version": "3.9.2"
  }
 },
 "nbformat": 4,
 "nbformat_minor": 2
}
